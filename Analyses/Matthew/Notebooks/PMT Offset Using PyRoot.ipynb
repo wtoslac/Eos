{
 "cells": [
  {
   "cell_type": "code",
   "execution_count": 1,
   "id": "633b5c7c-9ef5-431f-94fd-36c59d08d2cd",
   "metadata": {},
   "outputs": [
    {
     "name": "stdout",
     "output_type": "stream",
     "text": [
      "Welcome to JupyROOT 6.28/13\n",
      "Finished loading\n"
     ]
    }
   ],
   "source": [
    "import ROOT\n",
    "import numpy as np\n",
    "import matplotlib.pyplot as plt\n",
    "from matplotlib.patches import Patch\n",
    "import Waveform_Analysis.PMT_POSITIONS as pmtpos\n",
    "import Waveform_Analysis.data_processing.settings as settings\n",
    "import Waveform_Analysis.CABLE_DELAYS as cableDelays\n",
    "import math\n",
    "\n",
    "fileToView = \"/home/mpearson5/EOS/runs/run199.root\"\n",
    "fileObject = ROOT.TFile.Open(fileToView)\n",
    "eventTree = fileObject.Get(\"events\")\n",
    "metaTree = fileObject.Get(\"meta\")\n",
    "\n",
    "#print(eventTree.Print())\n",
    "events = int(eventTree.GetEntries())\n",
    "#fileObject.Close()\n",
    "\n",
    "eventPositionX = 0.0\n",
    "eventPositionY = -1371.0\n",
    "eventPositionZ = 2184.4\n",
    "\n",
    "print(\"Finished loading\")"
   ]
  },
  {
   "cell_type": "code",
   "execution_count": null,
   "id": "941a0641-87f3-4864-b138-cbad0eba34af",
   "metadata": {},
   "outputs": [],
   "source": [
    "event = 1\n",
    "\n"
   ]
  },
  {
   "cell_type": "markdown",
   "id": "866a9674-3e69-4269-a862-fcb3a872a2f1",
   "metadata": {},
   "source": [
    "# Plot fitted_time"
   ]
  },
  {
   "cell_type": "code",
   "execution_count": 3,
   "id": "91484b85-ce67-42ea-a094-15025044352e",
   "metadata": {},
   "outputs": [
    {
     "ename": "IndexError",
     "evalue": "list index out of range",
     "output_type": "error",
     "traceback": [
      "\u001b[0;31m---------------------------------------------------------------------------\u001b[0m",
      "\u001b[0;31mIndexError\u001b[0m                                Traceback (most recent call last)",
      "Cell \u001b[0;32mIn[3], line 15\u001b[0m\n\u001b[1;32m     10\u001b[0m fittedTimes \u001b[38;5;241m=\u001b[39m \u001b[38;5;28mlist\u001b[39m(eventTree\u001b[38;5;241m.\u001b[39mfitted_time)\n\u001b[1;32m     12\u001b[0m \u001b[38;5;28;01mfor\u001b[39;00m time,pmt \u001b[38;5;129;01min\u001b[39;00m \u001b[38;5;28mzip\u001b[39m(fittedTimes, pmts):\n\u001b[1;32m     13\u001b[0m \n\u001b[1;32m     14\u001b[0m     \u001b[38;5;66;03m#print(pmt)\u001b[39;00m\n\u001b[0;32m---> 15\u001b[0m     distance \u001b[38;5;241m=\u001b[39m math\u001b[38;5;241m.\u001b[39msqrt(((\u001b[43mpmtpos\u001b[49m\u001b[38;5;241;43m.\u001b[39;49m\u001b[43mx\u001b[49m\u001b[43m[\u001b[49m\u001b[43mpmt\u001b[49m\u001b[43m]\u001b[49m\u001b[38;5;241m-\u001b[39meventPositionX)\u001b[38;5;241m*\u001b[39m\u001b[38;5;241m*\u001b[39m\u001b[38;5;241m2\u001b[39m)\u001b[38;5;241m+\u001b[39m((pmtpos\u001b[38;5;241m.\u001b[39my[pmt]\u001b[38;5;241m-\u001b[39meventPositionY)\u001b[38;5;241m*\u001b[39m\u001b[38;5;241m*\u001b[39m\u001b[38;5;241m2\u001b[39m)\u001b[38;5;241m+\u001b[39m((pmtpos\u001b[38;5;241m.\u001b[39mz[pmt]\u001b[38;5;241m-\u001b[39meventPositionZ)\u001b[38;5;241m*\u001b[39m\u001b[38;5;241m*\u001b[39m\u001b[38;5;241m2\u001b[39m))\n\u001b[1;32m     16\u001b[0m     \u001b[38;5;28;01mif\u001b[39;00m pmtpos\u001b[38;5;241m.\u001b[39mx[pmt] \u001b[38;5;241m==\u001b[39m \u001b[38;5;241m-\u001b[39m\u001b[38;5;241m1\u001b[39m:\n\u001b[1;32m     17\u001b[0m         \u001b[38;5;28;01mcontinue\u001b[39;00m\n",
      "\u001b[0;31mIndexError\u001b[0m: list index out of range"
     ]
    },
    {
     "name": "stderr",
     "output_type": "stream",
     "text": [
      "Warning in <TFile::Append>: Replacing existing TH1: hist (Potential memory leak).\n"
     ]
    }
   ],
   "source": [
    "fittedTimeCanvas = ROOT.TCanvas(\"\",\"\",800,800)\n",
    "fittedTimeHist = ROOT.TH1D(\"hist\",\"Fitted time for\" + fileToView, 1000, -15,150)\n",
    "\n",
    "for event in range(events):\n",
    "    #print(\"Event \" + str(event))\n",
    "    eventTree.GetEntry(event)\n",
    "\n",
    "    # Gets the PMT Corresponding to an event\n",
    "    pmts = list(eventTree.lcn)\n",
    "    fittedTimes = list(eventTree.fitted_time)\n",
    "\n",
    "    for time,pmt in zip(fittedTimes, pmts):\n",
    "\n",
    "        #print(pmt)\n",
    "        distance = math.sqrt(((pmtpos.x[pmt]-eventPositionX)**2)+((pmtpos.y[pmt]-eventPositionY)**2)+((pmtpos.z[pmt]-eventPositionZ)**2))\n",
    "        if pmtpos.x[pmt] == -1:\n",
    "            continue\n",
    "\n",
    "        timeResidual = time - distance/settings.v_water\n",
    "        fittedTimeHist.Fill(timeResidual)\n",
    "\n",
    "fittedTimeHist.Draw()\n",
    "fittedTimeCanvas.Draw()"
   ]
  },
  {
   "cell_type": "markdown",
   "id": "2c92ed61-47fe-497a-b1c2-da81ab36bf47",
   "metadata": {},
   "source": [
    "# Plot Time Residual for a single PMT"
   ]
  },
  {
   "cell_type": "code",
   "execution_count": 8,
   "id": "81ddb2ec-26a0-4e5c-b773-2907f0433545",
   "metadata": {},
   "outputs": [
    {
     "name": "stdout",
     "output_type": "stream",
     "text": [
      "0.0\n"
     ]
    },
    {
     "name": "stderr",
     "output_type": "stream",
     "text": [
      "Warning in <TFile::Append>: Replacing existing TH1: hist (Potential memory leak).\n",
      "Warning in <Fit>: Fit data is empty \n"
     ]
    },
    {
     "data": {
      "image/png": "[encoded data removed]",
      "text/plain": [
       "<IPython.core.display.Image object>"
      ]
     },
     "metadata": {},
     "output_type": "display_data"
    }
   ],
   "source": [
    "PMT = 100\n",
    "PMTfittedTimeCanvas = ROOT.TCanvas(\"\",\"\",800,800)\n",
    "PMTfittedTimeHist = ROOT.TH1D(\"hist\",\"Fitted time for PMT:\" + str(PMT) +\" in file\" + fileToView, 1000, 0,150)\n",
    "\n",
    "for event in range(events):\n",
    "    #print(\"Event \" + str(event))\n",
    "    eventTree.GetEntry(event)\n",
    "\n",
    "    # Gets the PMT Corresponding to an event\n",
    "    pmts = list(eventTree.lcn)\n",
    "    fittedTimes = list(eventTree.fitted_time)\n",
    "\n",
    "    if PMT not in pmts:\n",
    "        continue\n",
    "\n",
    "    for time,pmt in zip(fittedTimes, pmts):\n",
    "\n",
    "        if PMT != pmt:\n",
    "            continue\n",
    "        if pmtpos.x[pmt] == -1:\n",
    "            continue\n",
    "\n",
    "        distance = math.sqrt(((pmtpos.x[pmt]-eventPositionX)**2)+((pmtpos.y[pmt]-eventPositionY)**2)+((pmtpos.z[pmt]-eventPositionZ)**2))\n",
    "        timeResidual = time - distance/settings.v_water\n",
    "        PMTfittedTimeHist.Fill(timeResidual)\n",
    "\n",
    "PMTmaxBin = PMTfittedTimeHist.GetMaximumBin()\n",
    "maxValue = PMTfittedTimeHist.GetXaxis().GetBinCenter(PMTmaxBin)\n",
    "\n",
    "PMTfit = ROOT.TF1(\"PMTFit\", \"gaus\", maxValue-10,maxValue+10)\n",
    "PMTfittedTimeHist.Fit(\"PMTFit\",\"R\")\n",
    "print(PMTfit.GetParameter(1))\n",
    "\n",
    "PMTfittedTimeHist.Draw()\n",
    "PMTfittedTimeCanvas.Draw()"
   ]
  },
  {
   "cell_type": "markdown",
   "id": "a8b15038-e18e-4ca4-b737-41ca9c96db1d",
   "metadata": {},
   "source": [
    "# Calculate the Cable Delays"
   ]
  },
  {
   "cell_type": "code",
   "execution_count": 11,
   "id": "f86abdce-8ff9-4f6e-af8c-374d50528b3b",
   "metadata": {},
   "outputs": [
    {
     "name": "stdout",
     "output_type": "stream",
     "text": [
      "Calculated 0/268\n",
      "Calculated 10/268\n",
      "Calculated 20/268\n",
      "Calculated 30/268\n",
      "Calculated 40/268\n",
      "Calculated 50/268\n",
      "Calculated 60/268\n",
      "Calculated 70/268\n",
      "Calculated 80/268\n",
      "Calculated 90/268\n",
      "Calculated 100/268\n",
      "Calculated 110/268\n",
      "Calculated 120/268\n",
      "Calculated 130/268\n",
      "Calculated 140/268\n",
      "Calculated 150/268\n",
      "Calculated 160/268\n",
      "Calculated 170/268\n",
      "Calculated 180/268\n",
      "Calculated 190/268\n",
      "Calculated 200/268\n",
      "Calculated 210/268\n",
      "Calculated 220/268\n",
      "Calculated 230/268\n",
      "Calculated 240/268\n",
      "Calculated 250/268\n",
      "Calculated 260/268\n",
      "[-149.85, -149.85, -149.85, -149.85, -149.85, -149.85, -149.85, -149.85, -149.85, -149.85, -149.85, -149.85, -149.85, -149.85, -149.85, -149.85, -149.85, -149.85, -149.85, -149.85, -149.85, -149.85, -149.85, -149.85, -149.85, -149.85, -149.85, -149.85, -149.85, -149.85, -149.85, -149.85, -149.85, -149.85, -149.85, -149.85, -149.85, -149.85, -149.85, -149.85, -149.85, -149.85, -149.85, -149.85, -149.85, -149.85, -149.85, -149.85, -149.85, -149.85, -149.85, -149.85, -149.85, -149.85, -149.85, -149.85, -149.85, -149.85, -149.85, -149.85, -149.85, -149.85, -149.85, -149.85, -149.85, -149.85, -149.85, -149.85, -149.85, -149.85, -149.85, -149.85, -149.85, -149.85, -149.85, -149.85, -149.85, -149.85, -149.85, -149.85, -149.85, -149.85, -149.85, -149.85, -149.85, -149.85, -149.85, -149.85, -149.85, -149.85, -149.85, -149.85, -149.85, -149.85, -149.85, -149.85, -149.85, -149.85, -149.85, -149.85, -149.85, -149.85, -149.85, -149.85, -149.85, -149.85, -149.85, -149.85, -149.85, -149.85, -149.85, -149.85, -149.85, -149.85, -149.85, -149.85, -149.85, -149.85, -149.85, -149.85, -149.85, -149.85, -149.85, -149.85, -149.85, -149.85, -149.85, -149.85, -149.85, -149.85, -149.85, -149.85, -149.85, -149.85, -149.85, -149.85, -149.85, -149.85, -149.85, -149.85, -149.85, -149.85, -149.85, -149.85, -149.85, -149.85, -149.85, -149.85, -149.85, -149.85, -149.85, -149.85, -149.85, -149.85, -149.85, -149.85, -149.85, -149.85, -149.85, -149.85, -149.85, -149.85, -149.85, -149.85, -149.85, -149.85, -149.85, -149.85, -149.85, -149.85, -149.85, -149.85, -149.85, -149.85, -149.85, -149.85, -149.85, -149.85, -149.85, -149.85, -149.85, -149.85, -149.85, -149.85, -149.85, -149.85, -149.85, -149.85, -149.85, -149.85, -149.85, -149.85, -149.85, -149.85, -149.85, -149.85, -149.85, -149.85, -149.85, -149.85, -149.85, -149.85, -149.85, -149.85, -149.85, -149.85, -149.85, -149.85, -149.85, -149.85, -149.85, -149.85, -149.85, -149.85, -149.85, -149.85, -149.85, -149.85, -149.85, -149.85, -149.85, -149.85, -149.85, -149.85, -149.85, -149.85, -149.85, -149.85, -149.85, -149.85, -149.85, -149.85, -149.85, -149.85, -149.85, -149.85, -149.85, -149.85, -149.85, -149.85, -149.85, -149.85, -149.85, -149.85, -149.85, -149.85, -149.85, -149.85, -149.85, -149.85, -149.85, -149.85, -149.85, -149.85, -149.85, -149.85, -149.85, -149.85, -149.85, -149.85, -149.85, -149.85, -149.85, -149.85, -149.85, -149.85, -149.85, -149.85]\n"
     ]
    },
    {
     "name": "stderr",
     "output_type": "stream",
     "text": [
      "Warning in <TFile::Append>: Replacing existing TH1: hist (Potential memory leak).\n"
     ]
    }
   ],
   "source": [
    "cable_Delays = [None]*len(pmtpos.x)\n",
    "canvas = ROOT.TCanvas(\"\",\"\",800,800)\n",
    "\n",
    "for lnc in range(len(pmtpos.x)):\n",
    "\n",
    "    pmtHist = ROOT.TH1D(\"hist\",\"\", 1000,-150,150)\n",
    "    \n",
    "    if lnc%10==0:\n",
    "        print(\"Calculated \"+ str(lnc) + \"/268\")\n",
    "    for event in range(events):\n",
    "        eventTree.GetEntry(event)\n",
    "        # Gets the PMT Corresponding to an event\n",
    "        pmts = list(eventTree.lcn)\n",
    "        fittedTimes = list(eventTree.fitted_time)\n",
    "\n",
    "        #print(pmts)\n",
    "        #print(fittedTimes)\n",
    "\n",
    "        if lnc not in pmts:\n",
    "            continue\n",
    "\n",
    "        for time,pmt in zip(fittedTimes, pmts):\n",
    "\n",
    "            if lnc != pmt:\n",
    "                continue\n",
    "            \n",
    "            if pmtpos.x[pmt] == -1:\n",
    "                continue\n",
    "\n",
    "            distance = math.sqrt(((pmtpos.x[pmt]-eventPositionX)**2)+((pmtpos.y[pmt]-eventPositionY)**2)+((pmtpos.z[pmt]-eventPositionZ)**2))\n",
    "    \n",
    "            timeResidual = time - distance/settings.v_water\n",
    "            pmtHist.Fill(timeResidual)\n",
    "\n",
    "    maxBin = pmtHist.GetMaximumBin()\n",
    "    maxValue = pmtHist.GetXaxis().GetBinCenter(maxBin)\n",
    "\n",
    "    #gausFit = ROOT.TF1(\"gausFit\", \"gaus\", maxValue-10,maxValue+10) Tried using a gaus fit but some had issues\n",
    "    #pmtHist.Fit(\"gausFit\")\n",
    "    #cable_Delays[lnc] = gausFit.GetParameter(1)\n",
    "    #del(gausFit)\n",
    "    cable_Delays[lnc] = maxValue\n",
    "    # if lnc == 5:\n",
    "    #     print(maxValue)\n",
    "    #     #print(gausFit.GetParameter(1))\n",
    "    #     pmtHist.Draw()\n",
    "    #     canvas.Draw()\n",
    "    #     break\n",
    "    del(pmtHist)\n",
    "    #pmtHist.Reset(\"ICESM\")\n",
    "\n",
    "print(cable_Delays)"
   ]
  },
  {
   "cell_type": "markdown",
   "id": "fc6b5181-9ab6-4da6-b3e6-52353529e925",
   "metadata": {},
   "source": [
    "# Plot fitted time with calculated cable delays"
   ]
  },
  {
   "cell_type": "code",
   "execution_count": 17,
   "id": "e6f1a93d-2a93-4f8b-821e-8c8bfe9eddf7",
   "metadata": {},
   "outputs": [
    {
     "name": "stderr",
     "output_type": "stream",
     "text": [
      "Warning in <TFile::Append>: Replacing existing TH1: hist (Potential memory leak).\n"
     ]
    },
    {
     "data": {
      "image/png": "[encoded data removed]",
      "text/plain": [
       "<IPython.core.display.Image object>"
      ]
     },
     "metadata": {},
     "output_type": "display_data"
    }
   ],
   "source": [
    "fittedTimeCanvas = ROOT.TCanvas(\"\",\"\",800,800)\n",
    "fittedTimeHist = ROOT.TH1D(\"hist\",\"Fitted time with cable delays for\" + fileToView, 1000, -10,15)\n",
    "\n",
    "for event in range(events):\n",
    "    #print(\"Event \" + str(event))\n",
    "    eventTree.GetEntry(event)\n",
    "\n",
    "    # Gets the PMT Corresponding to an event\n",
    "    pmts = list(eventTree.lcn)\n",
    "    fittedTimes = list(eventTree.fitted_time)\n",
    "\n",
    "    for time,pmt in zip(fittedTimes, pmts):\n",
    "\n",
    "        if pmt == 268:\n",
    "            continue\n",
    "\n",
    "        distance = math.sqrt(((pmtpos.x[pmt]-eventPositionX)**2)+((pmtpos.y[pmt]-eventPositionY)**2)+((pmtpos.z[pmt]-eventPositionZ)**2))\n",
    "        if pmtpos.x[pmt] == -1:\n",
    "            continue\n",
    "\n",
    "        timeResidual = time - distance/settings.v_water\n",
    "        timeResidual -= cable_Delays[pmt]\n",
    "        fittedTimeHist.Fill(timeResidual)\n",
    "\n",
    "fittedTimeHist.Draw()\n",
    "fittedTimeCanvas.Draw()"
   ]
  }
 ],
 "metadata": {
  "kernelspec": {
   "display_name": "Python 3 (ipykernel)",
   "language": "python",
   "name": "python3"
  },
  "language_info": {
   "codemirror_mode": {
    "name": "ipython",
    "version": 3
   },
   "file_extension": ".py",
   "mimetype": "text/x-python",
   "name": "python",
   "nbconvert_exporter": "python",
   "pygments_lexer": "ipython3",
   "version": "3.10.12"
  }
 },
 "nbformat": 4,
 "nbformat_minor": 5
}
