{
 "cells": [
  {
   "cell_type": "code",
   "execution_count": 1,
   "id": "bbf75813-a4ca-471d-86cf-044071daa1da",
   "metadata": {},
   "outputs": [
    {
     "name": "stdout",
     "output_type": "stream",
     "text": [
      "Welcome to JupyROOT 6.28/13\n"
     ]
    }
   ],
   "source": [
    "import ROOT\n",
    "import numpy as np\n",
    "import matplotlib.pyplot as plt\n",
    "from matplotlib.patches import Rectangle\n",
    "import matplotlib as mpl\n",
    "import os\n",
    "import argparse\n",
    "import math\n",
    "import random\n",
    "import MUONPADDLESPECS\n",
    "\n",
    "muonTrigger = []\n",
    "muonPanelPosition = []\n",
    "\n",
    "def fillRandom():\n",
    "    for i in range(73):\n",
    "        rand1 = random.randint(0,10)\n",
    "        rand2 = random.randint(0,10)\n",
    "        muonTrigger.append((True if rand1 > 5 else False, True if rand2 > 5 else False))\n",
    "        muonPanelPosition.append((0,0,0))"
   ]
  },
  {
   "cell_type": "code",
   "execution_count": 18,
   "id": "392c278e-5c75-4d4a-8773-9dbdda71879f",
   "metadata": {},
   "outputs": [],
   "source": [
    "for x,y,z in zip(MUONPADDLESPECS.muonPaddlePosx, MUONPADDLESPECS.muonPaddlePosy, MUONPADDLESPECS.muonPaddlePosz):\n",
    "    print(\"test\")"
   ]
  }
 ],
 "metadata": {
  "kernelspec": {
   "display_name": "Python 3 (ipykernel)",
   "language": "python",
   "name": "python3"
  },
  "language_info": {
   "codemirror_mode": {
    "name": "ipython",
    "version": 3
   },
   "file_extension": ".py",
   "mimetype": "text/x-python",
   "name": "python",
   "nbconvert_exporter": "python",
   "pygments_lexer": "ipython3",
   "version": "3.10.12"
  }
 },
 "nbformat": 4,
 "nbformat_minor": 5
}
